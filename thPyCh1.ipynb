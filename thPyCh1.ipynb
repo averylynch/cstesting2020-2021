{
 "cells": [
  {
   "cell_type": "markdown",
   "metadata": {},
   "source": [
    "# Think Python 2 Outline:\n"
   ]
  },
  {
   "cell_type": "markdown",
   "metadata": {},
   "source": [
    "Chapter 1"
   ]
  },
  {
   "cell_type": "markdown",
   "metadata": {},
   "source": [
    "Problem solving: the ability to formulate problems, think creatively about solutions, and express a solution clearly and accurately.  The process of learning to program is an excellent opportunity to practice these skills."
   ]
  },
  {
   "cell_type": "markdown",
   "metadata": {},
   "source": [
    "What is a Program?\n",
    "******\n",
    "What is it to you? A program is a computer sequence that one can put an input into and get an output from.\n",
    "- input\n",
    "- output\n",
    "- math\n",
    "- conditional execution - if condition1 is true, do thing 1; otherwise, do thing 2\n",
    "- repetition\n",
    "    print('hello world') x 100\n",
    "    loops\n"
   ]
  },
  {
   "cell_type": "markdown",
   "metadata": {},
   "source": [
    "The Environment that you write Python:\n",
    "***\n",
    "- directly into interpreter - the REPL\n",
    "- IDLE (can find in hard drive, allows you to write programs instead of input-output)\n",
    "- web-based eg. PythonAnywhere\n",
    "- Local Development Environment, like Sublime Text or PyCharm\n",
    "- Local/web hybrid: Jupyter"
   ]
  },
  {
   "cell_type": "code",
   "execution_count": 2,
   "metadata": {},
   "outputs": [
    {
     "name": "stdout",
     "output_type": "stream",
     "text": [
      "Hello World Mr. Hansen!\n"
     ]
    }
   ],
   "source": [
    "#First Program!\n",
    "print(\"Hello World Mr. Hansen!\")"
   ]
  },
  {
   "cell_type": "code",
   "execution_count": 20,
   "metadata": {},
   "outputs": [
    {
     "name": "stdout",
     "output_type": "stream",
     "text": [
      "42\n",
      "42\n",
      "8\n",
      "7\n",
      "6+7\n",
      "6+7\n",
      "Mr. Hansen's coffee\n",
      "Mr. Hansen says, \"hello!\"\n",
      "Mr. Hansen's computer is \"awesome\".\n",
      "False\n",
      "3.141592\n",
      "3.141592653589793\n",
      "2.5\n",
      "6\n"
     ]
    }
   ],
   "source": [
    "# octothorpe \n",
    "#lines beginning with one of these are a Comment\n",
    "#Arithmetic Operators:\n",
    "print(40+2)\n",
    "print(6*7)\n",
    "print(2**3) #This is exponentiation!  ^ is XOR\n",
    "#Fill in your own: \n",
    "print(5+3-1)\n",
    "\n",
    "print(\"6+7\")\n",
    "print('6+7')\n",
    "print(\"Mr. Hansen's coffee\")\n",
    "print('Mr. Hansen says, \"hello!\"')\n",
    "print(\"Mr. Hansen's computer is \\\"awesome\\\".\")\n",
    "\n",
    "print(1==2)\n",
    "x=5 #x gets  the value of 5\n",
    "x+10\n",
    "\n",
    "pi=3.141592\n",
    "print(pi)\n",
    "\n",
    "import math\n",
    "print(math.pi)\n",
    "\n",
    "#Casting\n",
    "mystring= \"5\"\n",
    "print(int(mystring)/2)\n",
    "\n",
    "x=7\n",
    "#print (\"word\"+7)\n",
    "#print (str(x)+7)\n",
    "myfloat=2.5\n",
    "print(int(myfloat)*3)\n"
   ]
  },
  {
   "cell_type": "markdown",
   "metadata": {},
   "source": [
    "# Values and Types:\n",
    "- String (str): Characters mushed together to make a string of characters (3 could be a string or a number)\n",
    "- Integer (int): Positive and negative whole numbers\n",
    "- Floating-point (float): Non-integer number (3.5, -7.1, etc)\n",
    "- Binary (bin): \n",
    "- and more\n",
    "\n",
    "\n"
   ]
  },
  {
   "cell_type": "code",
   "execution_count": 13,
   "metadata": {},
   "outputs": [
    {
     "data": {
      "text/plain": [
       "'twoone'"
      ]
     },
     "execution_count": 13,
     "metadata": {},
     "output_type": "execute_result"
    }
   ],
   "source": [
    "#Incompatible types?\n",
    "1+1\n",
    "#1+\"one\"\n",
    "'two'+\"one\" #concatenation, cat for short"
   ]
  },
  {
   "cell_type": "markdown",
   "metadata": {},
   "source": [
    "Natural Languages vs. Formal Languages\n",
    "- Parsing/Ambiguity/Redundancy/literalness\n",
    "- poetry/prose/programs\n",
    "\n",
    "Semantics vs. Syntax\n",
    "semantics of a program/sentence/idea - the meaning of it\n",
    "syntax of a program/sentence/idea - the structure/grammar/technical rules of it\n",
    "                             Semantics       Syntax\n",
    "Stand up, then jump.          good            good\n",
    "Up stand jump!                good            bad\n",
    "Jump, then stand.             bad             good\n",
    "jump jump jump zebra!!        bad             bad\n",
    "\n",
    "Debugging\n"
   ]
  },
  {
   "cell_type": "markdown",
   "metadata": {},
   "source": [
    "*******\n",
    "---Exercises----\n",
    "***"
   ]
  },
  {
   "cell_type": "markdown",
   "metadata": {},
   "source": [
    "Exercise 1\n",
    "- 1) In a print statement, what happens if you leave out one or both of the parentheses?\n",
    "- 2) If you are trying to print a string, what happens if you leave out one/both of the quotation marks (or apostrophes)?\n",
    "- 3) You can use a minus sign to make a negative number like -2. What happens if you put a plus sign before a number? What about 2++2?\n",
    "- 4) In math notation, leading zeros are ok, as in 09. What happens if you try this in Python? What about 011?\n",
    "- 5) What happens if you have two values with no operator between them?"
   ]
  },
  {
   "cell_type": "markdown",
   "metadata": {},
   "source": [
    "Exercise 2\n",
    "See text!\n",
    "Exercise 1.2. Start the Python interpreter and use it as a calculator.\n",
    "1. How many seconds are there in 42 minutes 42 seconds?\n",
    "2. How many miles are there in 10 kilometers? Hint: there are 1.61 kilometers in a mile.\n",
    "3. If you run a 10 kilometer race in 42 minutes 42 seconds, what is your average pace (time per mile in minutes and seconds)? What is your average speed in miles per hour?"
   ]
  },
  {
   "cell_type": "code",
   "execution_count": 5,
   "metadata": {},
   "outputs": [],
   "source": [
    "#print (\"hi\"\n",
    "#print (\"357)\n",
    "#2++2\n",
    "#5+011\n",
    "#print (3 5)"
   ]
  },
  {
   "cell_type": "code",
   "execution_count": 25,
   "metadata": {},
   "outputs": [
    {
     "data": {
      "text/plain": [
       "2562"
      ]
     },
     "execution_count": 25,
     "metadata": {},
     "output_type": "execute_result"
    }
   ],
   "source": [
    "42*60+42"
   ]
  },
  {
   "cell_type": "code",
   "execution_count": 24,
   "metadata": {},
   "outputs": [
    {
     "data": {
      "text/plain": [
       "6.211180124223602"
      ]
     },
     "execution_count": 24,
     "metadata": {},
     "output_type": "execute_result"
    }
   ],
   "source": [
    "10/1.61"
   ]
  },
  {
   "cell_type": "code",
   "execution_count": 30,
   "metadata": {},
   "outputs": [
    {
     "data": {
      "text/plain": [
       "52.44"
      ]
     },
     "execution_count": 30,
     "metadata": {},
     "output_type": "execute_result"
    }
   ],
   "source": [
    "2562/6.211/60\n",
    ".874*60"
   ]
  },
  {
   "cell_type": "code",
   "execution_count": 27,
   "metadata": {},
   "outputs": [
    {
     "data": {
      "text/plain": [
       "8.727400468384076"
      ]
     },
     "execution_count": 27,
     "metadata": {},
     "output_type": "execute_result"
    }
   ],
   "source": [
    "6.211/(2562/60/60)"
   ]
  },
  {
   "cell_type": "markdown",
   "metadata": {},
   "source": [
    "1. 2562 seconds\n",
    "2. 6.211 miles\n",
    "3. 6 minutes and 52.44 seconds/mile\n",
    "4. 8.727 mph"
   ]
  },
  {
   "cell_type": "code",
   "execution_count": null,
   "metadata": {},
   "outputs": [],
   "source": []
  }
 ],
 "metadata": {
  "kernelspec": {
   "display_name": "Python 3",
   "language": "python",
   "name": "python3"
  },
  "language_info": {
   "codemirror_mode": {
    "name": "ipython",
    "version": 3
   },
   "file_extension": ".py",
   "mimetype": "text/x-python",
   "name": "python",
   "nbconvert_exporter": "python",
   "pygments_lexer": "ipython3",
   "version": "3.8.3"
  }
 },
 "nbformat": 4,
 "nbformat_minor": 4
}
