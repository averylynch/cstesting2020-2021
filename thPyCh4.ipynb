{
 "cells": [
  {
   "cell_type": "markdown",
   "metadata": {},
   "source": [
    "## Chapter 4 - Case Study: interface design  \n",
    "This chapter presents a case study that demonstrates a process for designing functions that work together.  \n",
    "\n",
    "It also uses the turtle module, which creates images using turtle graphics.  It should be installed with Python but if you have trouble running the following imports, let me know and we will investigate.  \n",
    "Normally, Turtle is designed to run in the built-in Python shell; so instead of the default Turtle module as described in Think Python 2, we will use ipyturtle (which is similar, just adapted for Jupyter and missing a few abbreviations)."
   ]
  },
  {
   "cell_type": "markdown",
   "metadata": {},
   "source": [
    "## Before you begin (VERY IMPORTANT):\n",
    "You need to go back to a NEW (i.e. not the one you're currently using to run Jupyter) Terminal or Conda Prompt and run the\n",
    "following TWO lines of code, one at a time:  \n",
    "pip install ipyturtle  \n",
    "jupyter nbextension enable --py --sys-prefix ipyturtle  \n",
    "    "
   ]
  },
  {
   "cell_type": "code",
   "execution_count": 1,
   "metadata": {},
   "outputs": [
    {
     "data": {
      "application/vnd.jupyter.widget-view+json": {
       "model_id": "cc61d9632c464e538ad6e2f6e740302b",
       "version_major": 2,
       "version_minor": 0
      },
      "text/plain": [
       "Turtle()"
      ]
     },
     "metadata": {},
     "output_type": "display_data"
    }
   ],
   "source": [
    "from ipyturtle import Turtle\n",
    "bob = Turtle()\n",
    "bob\n",
    "#bob is your \"turtle\" object\n",
    "#you should see a small graphics box appear in the jupyter window \n",
    "#with a triangle in it.  That's your a graphical representation\n",
    "#of your \"turtle\" which can be\n",
    "#used to draw different diagrams on the screen!\n"
   ]
  },
  {
   "cell_type": "code",
   "execution_count": 2,
   "metadata": {},
   "outputs": [],
   "source": [
    "bob.forward(100) #the text uses the shorthand fd(), but that \n",
    "#doesn't work in ipyturtle\n",
    "\n",
    "#forward() is a method (a function of an object) but uses slightly\n",
    "#different syntax - dot notation\n",
    "\n",
    "#there's also backward(distance); right(degrees), and left(degrees)\n",
    "#for turns"
   ]
  },
  {
   "cell_type": "code",
   "execution_count": 5,
   "metadata": {},
   "outputs": [],
   "source": [
    "#Simple repetition\n",
    "#Suppose you wanted to use turtle to draw a square.\n",
    "#Enter your code here:\n",
    "bob.forward(100)\n",
    "bob.right(90)\n",
    "bob.forward(100)\n",
    "bob.right(90)\n",
    "bob.forward(100)\n",
    "bob.right(90)\n",
    "bob.forward(100)\n",
    "bob.right(90)"
   ]
  },
  {
   "cell_type": "code",
   "execution_count": 26,
   "metadata": {},
   "outputs": [],
   "source": [
    "#you might have written something like this\n",
    "\n",
    "bob.forward(100)\n",
    "bob.right(90)\n",
    "\n",
    "bob.forward(100)\n",
    "bob.right(90)\n",
    "\n",
    "bob.forward(100)\n",
    "bob.right(90)\n",
    "\n",
    "bob.forward(100)\n",
    "bob.right(90)\n",
    "\n",
    "#and that would have been fine.  "
   ]
  },
  {
   "cell_type": "code",
   "execution_count": 6,
   "metadata": {},
   "outputs": [],
   "source": [
    "#But we can do the same thing with a \n",
    "#\"for loop\"\n",
    "\n",
    "#first clear what you drew before and reset position of the turtle\n",
    "#with th reset command\n",
    "bob.reset()\n",
    "\n",
    "#then we do 4 repetitions of forward, then right\n",
    "for i in range(4):\n",
    "    bob.forward(100)\n",
    "    bob.right(90)\n",
    "\n",
    "#note that the number x that's inside range(x)\n",
    "#will determine the number of repetitions\n",
    "#for loops have a few other neat ways of \n",
    "#setting out their syntax, which we will look into deeper in the\n",
    "#future"
   ]
  },
  {
   "cell_type": "code",
   "execution_count": 12,
   "metadata": {},
   "outputs": [
    {
     "name": "stdout",
     "output_type": "stream",
     "text": [
      "Hello\n",
      "Hello\n",
      "Hello\n",
      "Hello\n",
      "Hello\n"
     ]
    }
   ],
   "source": [
    "#We can repeat any code using a loop like this:\n",
    "for i in range(5):\n",
    "    print(\"Hello\")"
   ]
  },
  {
   "cell_type": "markdown",
   "metadata": {},
   "source": [
    "## Intro Wrap-up.  \n",
    "That's it to start!  With this loop structure\n",
    "along with forward, back, right, and left, you can draw lots\n",
    "of geometric figures.  \n",
    "Next are some standard Exercises.\n",
    "\n",
    "Your assignment over the rest of Cohort model is to work through these exercises, using the added help of 4.4 - 4.8 of Think Python 2\n",
    "http://greenteapress.com/thinkpython2/html/thinkpython2005.html\n",
    "\n",
    "\n",
    "** if you are looking to do more, you can look at \n",
    " https://github.com/gkvoelkl/ipython-turtle-widget\n",
    "for some more methods of turtles. \n",
    "You can also record your current heading, and pick up or put down the pen.\n",
    "The built-in, non-jupyter-friendly Turtle has even more options like changing color, so if you'd like to investigate that, let me know!"
   ]
  },
  {
   "cell_type": "markdown",
   "metadata": {},
   "source": [
    "## Exercises"
   ]
  },
  {
   "cell_type": "markdown",
   "metadata": {},
   "source": [
    "The following is a series of exercises using Turtle. They are meant to be fun, but they have a point, too. While you are working on them, think about what the point is."
   ]
  },
  {
   "cell_type": "markdown",
   "metadata": {},
   "source": [
    "The following sections have solutions to the exercises, so don’t look until you have finished (or at least tried).\n",
    "\n",
    "1. Write a function called square that takes a parameter named t, which is a turtle. It should use the turtle to draw a square.\n",
    "Write a function call that passes bob as an argument to square, and then run the program again.\n",
    "- Add another parameter, named length, to square. Modify the body so length of the sides is length, and then modify the function call to provide a second argument. Run the program again. Test your program with a range of values for length.\n",
    "- Make a copy of square and change the name to polygon. Add another parameter named n and modify the body so it draws an n-sided regular polygon. Hint: The exterior angles of an n-sided regular polygon are 360/n degrees.\n",
    "- Write a function called circle that takes a turtle, t, and radius, r, as parameters and that draws an approximate circle by calling polygon with an appropriate length and number of sides. Test your function with a range of values of r.\n",
    "- Hint: figure out the circumference of the circle and make sure that length * n = circumference.\n",
    "- Make a more general version of circle called arc that takes an additional parameter angle, which determines what fraction of a circle to draw. angle is in units of degrees, so when angle=360, arc should draw a complete circle.\n"
   ]
  },
  {
   "cell_type": "markdown",
   "metadata": {},
   "source": [
    "Use 4.4 - 4.8 in \n",
    "http://greenteapress.com/thinkpython2/html/thinkpython2005.html\n",
    "for more help"
   ]
  },
  {
   "cell_type": "code",
   "execution_count": 6,
   "metadata": {},
   "outputs": [],
   "source": [
    "def square(t):\n",
    "    for i in range(4):\n",
    "        t.forward(100)\n",
    "        t.right(90)\n",
    "bob.reset()\n",
    "square(bob)"
   ]
  },
  {
   "cell_type": "code",
   "execution_count": 7,
   "metadata": {},
   "outputs": [],
   "source": [
    "def square(t,length):\n",
    "    for i in range(4):\n",
    "        t.forward(length)\n",
    "        t.right(90)\n",
    "bob.reset()\n",
    "square(bob,150)"
   ]
  },
  {
   "cell_type": "code",
   "execution_count": 9,
   "metadata": {},
   "outputs": [],
   "source": [
    "def polygon(t,length,n):\n",
    "    for i in range(n):\n",
    "        t.forward(length)\n",
    "        t.right(360/n)\n",
    "bob.reset()\n",
    "polygon(bob,100,6)"
   ]
  },
  {
   "cell_type": "code",
   "execution_count": 10,
   "metadata": {},
   "outputs": [],
   "source": [
    "import math\n",
    "def circle(t,r):\n",
    "    n=360\n",
    "    length = 2*r*math.pi/n\n",
    "    polygon(t,length,n)\n",
    "bob.reset()\n",
    "circle(bob,75)"
   ]
  },
  {
   "cell_type": "code",
   "execution_count": 15,
   "metadata": {},
   "outputs": [],
   "source": [
    "def arc(t,r,angle):\n",
    "    length=2*r*math.pi/360\n",
    "    for i in range(angle):\n",
    "        t.forward(length)\n",
    "        t.right(1)\n",
    "bob.reset()\n",
    "arc(bob,100,90)"
   ]
  },
  {
   "cell_type": "code",
   "execution_count": 4,
   "metadata": {},
   "outputs": [],
   "source": [
    "def pentagon(t,length):\n",
    "    for i in range(1,6):\n",
    "        t.forward(length)\n",
    "        t.right(360/5)\n",
    "bob.reset()\n",
    "pentagon(bob,100)"
   ]
  },
  {
   "cell_type": "code",
   "execution_count": null,
   "metadata": {},
   "outputs": [],
   "source": []
  }
 ],
 "metadata": {
  "kernelspec": {
   "display_name": "Python 3",
   "language": "python",
   "name": "python3"
  },
  "language_info": {
   "codemirror_mode": {
    "name": "ipython",
    "version": 3
   },
   "file_extension": ".py",
   "mimetype": "text/x-python",
   "name": "python",
   "nbconvert_exporter": "python",
   "pygments_lexer": "ipython3",
   "version": "3.8.3"
  }
 },
 "nbformat": 4,
 "nbformat_minor": 4
}
