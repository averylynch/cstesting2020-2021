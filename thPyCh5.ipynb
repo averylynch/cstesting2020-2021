{
 "cells": [
  {
   "cell_type": "markdown",
   "metadata": {},
   "source": [
    "## Chapter 5 - Conditionals and Recursion\n",
    "The main topic is the if statement (which we've briefly looked at already) but we also want to introduce modulus and floor."
   ]
  },
  {
   "cell_type": "markdown",
   "metadata": {},
   "source": [
    "You may recall in doing division, one way of representing your answer, the Dividend and Remainder way.  \n",
    "I.e., 7/2 = 3 R 1, or 17/3 = 5 R 2\n",
    "\n",
    "We can produce these pieces by using floor division, i.e. //, and modulus, i.e. %.\n"
   ]
  },
  {
   "cell_type": "code",
   "execution_count": 2,
   "metadata": {},
   "outputs": [
    {
     "data": {
      "text/plain": [
       "3"
      ]
     },
     "execution_count": 2,
     "metadata": {},
     "output_type": "execute_result"
    }
   ],
   "source": [
    "7 // 2"
   ]
  },
  {
   "cell_type": "code",
   "execution_count": 3,
   "metadata": {},
   "outputs": [
    {
     "data": {
      "text/plain": [
       "1"
      ]
     },
     "execution_count": 3,
     "metadata": {},
     "output_type": "execute_result"
    }
   ],
   "source": [
    "7 % 2"
   ]
  },
  {
   "cell_type": "code",
   "execution_count": 4,
   "metadata": {},
   "outputs": [
    {
     "data": {
      "text/plain": [
       "5"
      ]
     },
     "execution_count": 4,
     "metadata": {},
     "output_type": "execute_result"
    }
   ],
   "source": [
    "17// 3"
   ]
  },
  {
   "cell_type": "code",
   "execution_count": 5,
   "metadata": {},
   "outputs": [
    {
     "data": {
      "text/plain": [
       "2"
      ]
     },
     "execution_count": 5,
     "metadata": {},
     "output_type": "execute_result"
    }
   ],
   "source": [
    "17% 3"
   ]
  },
  {
   "cell_type": "code",
   "execution_count": 19,
   "metadata": {},
   "outputs": [
    {
     "name": "stdout",
     "output_type": "stream",
     "text": [
      "17 divided by 3 is 5 remainder 2\n"
     ]
    }
   ],
   "source": [
    "print(\"17 divided by 3 is\",17//3, \"remainder\", 17%3)"
   ]
  },
  {
   "cell_type": "code",
   "execution_count": 2,
   "metadata": {},
   "outputs": [
    {
     "name": "stdout",
     "output_type": "stream",
     "text": [
      "Enter an integer: 0\n",
      "0 is even.\n"
     ]
    }
   ],
   "source": [
    "#Much of the time in this course, we will use Modulus to check for even or odd-ness, or more broadly, \n",
    "#divisibility by checking to see if the remainder after division equals zero.\n",
    "my_num = int(input(\"Enter an integer: \"))\n",
    "if(my_num % 2 == 0):\n",
    "    print(my_num, \"is even.\")\n",
    "else:\n",
    "    print(my_num, \"is odd.\")"
   ]
  },
  {
   "cell_type": "code",
   "execution_count": 4,
   "metadata": {},
   "outputs": [
    {
     "name": "stdout",
     "output_type": "stream",
     "text": [
      "Enter an integer: 5\n",
      "Enter another integer: 3\n",
      "5 is not divisible by 3\n"
     ]
    }
   ],
   "source": [
    "# Find if one number is a factor of another\n",
    "my_num = int(input(\"Enter an integer: \"))\n",
    "my_num2 = int(input(\"Enter another integer: \"))\n",
    "if(my_num % my_num2 == 0):\n",
    "    print(my_num, \"is divisible by\", my_num2)\n",
    "else:\n",
    "    print(my_num, \"is not divisible by\", my_num2)"
   ]
  },
  {
   "cell_type": "markdown",
   "metadata": {},
   "source": [
    "## The modulus operator actually opens the door for mathematicians to an entire universe of study.  Within Number Theory and Abstract Algebra, the \"integers modulus p\" where p is prime generates what's called a \"group.\"  The relationships of members of this group have countless applications including cryptography, integer factorization, and molecular modeling for chemistry and pharmaceuticals."
   ]
  },
  {
   "cell_type": "markdown",
   "metadata": {},
   "source": [
    "# Boolean expressions"
   ]
  },
  {
   "cell_type": "code",
   "execution_count": 7,
   "metadata": {},
   "outputs": [
    {
     "data": {
      "text/plain": [
       "True"
      ]
     },
     "execution_count": 7,
     "metadata": {},
     "output_type": "execute_result"
    }
   ],
   "source": [
    "#boolean expressions are expressions that evaluate to either True or False.  \n",
    "5 == 5"
   ]
  },
  {
   "cell_type": "code",
   "execution_count": 8,
   "metadata": {},
   "outputs": [
    {
     "data": {
      "text/plain": [
       "False"
      ]
     },
     "execution_count": 8,
     "metadata": {},
     "output_type": "execute_result"
    }
   ],
   "source": [
    "5 == 6"
   ]
  },
  {
   "cell_type": "code",
   "execution_count": 10,
   "metadata": {},
   "outputs": [],
   "source": [
    "#CAREFUL: \"=\" is not a relational operator (it's assignment)\n",
    "#    \"==\" is the relational operator for equality.\n",
    "#The other relational operators in Python are: \n",
    "#      x != y               # x is not equal to y\n",
    "#      x > y                # x is greater than y\n",
    "#      x < y                # x is less than y\n",
    "#      x >= y               # x is greater than or equal to y\n",
    "#      x <= y               # x is less than or equal to y"
   ]
  },
  {
   "cell_type": "code",
   "execution_count": 5,
   "metadata": {},
   "outputs": [
    {
     "data": {
      "text/plain": [
       "True"
      ]
     },
     "execution_count": 5,
     "metadata": {},
     "output_type": "execute_result"
    }
   ],
   "source": [
    "'Hello' != 'hello'"
   ]
  },
  {
   "cell_type": "markdown",
   "metadata": {},
   "source": [
    "# Logical Operators  \n",
    "and, or and not can modify and join booleans.  \n",
    "They mean the same as Union and Intersection from prior math classes."
   ]
  },
  {
   "cell_type": "code",
   "execution_count": 12,
   "metadata": {},
   "outputs": [
    {
     "data": {
      "text/plain": [
       "False"
      ]
     },
     "execution_count": 12,
     "metadata": {},
     "output_type": "execute_result"
    }
   ],
   "source": [
    "True and False\n",
    "#It is cold today and there are three planets named Jupiter in our solar system"
   ]
  },
  {
   "cell_type": "code",
   "execution_count": 13,
   "metadata": {},
   "outputs": [
    {
     "data": {
      "text/plain": [
       "True"
      ]
     },
     "execution_count": 13,
     "metadata": {},
     "output_type": "execute_result"
    }
   ],
   "source": [
    "True or False\n",
    "#it is Tuesday or bananas regularly spontaneously combust"
   ]
  },
  {
   "cell_type": "code",
   "execution_count": 16,
   "metadata": {},
   "outputs": [
    {
     "data": {
      "text/plain": [
       "False"
      ]
     },
     "execution_count": 16,
     "metadata": {},
     "output_type": "execute_result"
    }
   ],
   "source": [
    "not True"
   ]
  },
  {
   "cell_type": "code",
   "execution_count": 17,
   "metadata": {},
   "outputs": [
    {
     "data": {
      "text/plain": [
       "True"
      ]
     },
     "execution_count": 17,
     "metadata": {},
     "output_type": "execute_result"
    }
   ],
   "source": [
    "not False"
   ]
  },
  {
   "cell_type": "code",
   "execution_count": 18,
   "metadata": {},
   "outputs": [
    {
     "data": {
      "text/plain": [
       "True"
      ]
     },
     "execution_count": 18,
     "metadata": {},
     "output_type": "execute_result"
    }
   ],
   "source": [
    "5 == 6 or not(6 == 7)"
   ]
  },
  {
   "cell_type": "code",
   "execution_count": 10,
   "metadata": {},
   "outputs": [
    {
     "data": {
      "text/plain": [
       "True"
      ]
     },
     "execution_count": 10,
     "metadata": {},
     "output_type": "execute_result"
    }
   ],
   "source": [
    "x = True\n",
    "y = True\n",
    "z = False\n",
    "#(x or y) or z is true\n",
    "(x or y) and (y or z)"
   ]
  },
  {
   "cell_type": "markdown",
   "metadata": {},
   "source": [
    "# Truth Table\n",
    "a way to represent the outcomes of a boolean expression based on differing inputs\n",
    "  a  |  b  | a or b | a and b | a and not b\n",
    "  T  |  T  |   T    |    T    |     F\n",
    "  T  |  F  |   T    |    F    |     T\n",
    "  F  |  T  |   T    |    F    |     F\n",
    "  F  |  F  |   F    |    F    |     F\n",
    "(double click this)\n",
    "For any two expressions that have the same truth table output, those are logically equivalent"
   ]
  },
  {
   "cell_type": "markdown",
   "metadata": {},
   "source": [
    "# Conditional Execution  \n",
    "As you saw above, we can execute different pieces of code based on different conditions."
   ]
  },
  {
   "cell_type": "code",
   "execution_count": 30,
   "metadata": {},
   "outputs": [
    {
     "name": "stdout",
     "output_type": "stream",
     "text": [
      "Hello world.\n",
      "Math.\n",
      "c wins\n"
     ]
    }
   ],
   "source": [
    "if(True):\n",
    "    print(\"Hello world.\")\n",
    "#this is only done if the above condition holds true...in this case it always holds true.\n",
    "\n",
    "if( 5 == 5):\n",
    "    print(\"Math.\")\n",
    "    #more things that you might do in \"block 1\"\n",
    "else:\n",
    "    print(\"Not Math.\")\n",
    "    #more things that you also might do in \"block 2\"\n",
    "#this if / else block will do the first block if the item in the if() is true, and the second block otherwise\n",
    "\n",
    "my_var = 'c'\n",
    "if(my_var == 'a'):\n",
    "    print(\"a wins\")\n",
    "elif(my_var == 'b'):\n",
    "    print(\"b wins\")\n",
    "elif(my_var == 'c'):\n",
    "    print(\"c wins\")\n",
    "else:\n",
    "    print(\"i give up guessing\")\n",
    "    \n",
    "#In this case we can have a chain of elif's that could each handle a different case, \n",
    "#if the correct case hasn't been found yet."
   ]
  },
  {
   "cell_type": "code",
   "execution_count": 28,
   "metadata": {},
   "outputs": [
    {
     "name": "stdout",
     "output_type": "stream",
     "text": [
      "Math?  Yes or no: no\n",
      "Interesting...but what about math?\n"
     ]
    }
   ],
   "source": [
    "#But this is somewhat boring..unless we make it customizable:\n",
    "my_answer = input(\"Math?  Yes or no: \")\n",
    "if(my_answer == \"Yes\" or my_answer == \"yes\" or my_answer == \"math\" or my_answer == 'Math'):\n",
    "    print(\"Yes, of course, math.\")\n",
    "else:\n",
    "    print(\"Interesting idea...but what about math?\")"
   ]
  },
  {
   "cell_type": "code",
   "execution_count": 37,
   "metadata": {},
   "outputs": [
    {
     "name": "stdout",
     "output_type": "stream",
     "text": [
      "my vars don't match\n"
     ]
    }
   ],
   "source": [
    "# We can also nest conditionals:\n",
    "my_var = \"a\"\n",
    "my_other_var = \"b\"\n",
    "if(my_var ==  'a'):\n",
    "    if(my_other_var == 'a'):\n",
    "        print(\"my vars match\")\n",
    "    else:\n",
    "        print(\"my vars don't match\")\n",
    "else:\n",
    "    if(my_other_var == 'b'):\n",
    "        print(\"my vars match\")\n",
    "    else:\n",
    "        print(\"my vars don't match\")\n",
    "#Change up the vars to verify.\n",
    "\n"
   ]
  },
  {
   "cell_type": "markdown",
   "metadata": {},
   "source": [
    "# Recursion  \n",
    "Recursion is amazing, but with a drawback.  Recursive functions reference themselves in their definition.  They should also eventually \"stop\", with a \"base case\".\n"
   ]
  },
  {
   "cell_type": "code",
   "execution_count": 21,
   "metadata": {},
   "outputs": [],
   "source": [
    "def countdown(n):\n",
    "    if n <= 0:\n",
    "        print('Blastoff!')\n",
    "    else:\n",
    "        print(n)\n",
    "        countdown(n-1)"
   ]
  },
  {
   "cell_type": "code",
   "execution_count": 22,
   "metadata": {},
   "outputs": [
    {
     "name": "stdout",
     "output_type": "stream",
     "text": [
      "5\n",
      "4\n",
      "3\n",
      "2\n",
      "1\n",
      "Blastoff!\n"
     ]
    }
   ],
   "source": [
    "countdown(5)"
   ]
  },
  {
   "cell_type": "code",
   "execution_count": 40,
   "metadata": {},
   "outputs": [
    {
     "name": "stdout",
     "output_type": "stream",
     "text": [
      "Blastoff!\n"
     ]
    }
   ],
   "source": [
    "countdown(0)"
   ]
  },
  {
   "cell_type": "code",
   "execution_count": 19,
   "metadata": {},
   "outputs": [],
   "source": [
    "#Beware infinite recursion!  - write an example of infinite recursion.\n",
    "#def inf_rec():\n",
    "#    inf_rec()\n",
    "    \n",
    "#inf_rec()\n",
    "\n",
    "#def inf_counter(x):\n",
    "#    print(x)\n",
    "#    inf_counter(x+1)\n",
    "#inf_counter(7)\n",
    "\n",
    "#advantages of recursion: often does a job in only a few lines of code\n",
    "#disadvantages: can often require more computer resources than necessary\n",
    "\n",
    "#adv/dis of iterative method (nonrecursive): can be more efficiant than rec, but takes more code"
   ]
  },
  {
   "cell_type": "code",
   "execution_count": 42,
   "metadata": {},
   "outputs": [],
   "source": [
    "# What's the drawback or other drawbacks?\n",
    "# discuss factorials and fibonacci sequence"
   ]
  },
  {
   "cell_type": "code",
   "execution_count": 48,
   "metadata": {},
   "outputs": [
    {
     "name": "stdout",
     "output_type": "stream",
     "text": [
      "13121537462149408029358333665830517987029196314511753784733605233283627822106734098325111493464105152315659405720706167295260919918875758901424636768914216346371344932095472387459226179832540117341099448938245368480492779819510057545671016763427738653680237730986692653121109653179304555043179863422771065840731254608758504349138858568436581090056327310768721158136208617184380519559392933558408608405410925465597896023697786391262490613858702472957697844637031452487474517825824702255676845620059469836434335782407648266139243120638472466941709866455165921951244920061347545714782906650380641854455319957011396417595952206212824239759761726670211866193431290440865341781139621037965734971940036916232117569107653477682325271523251658083179615328951974423467555389782059292701279057560233111176789254739740184961832250501919203857400756358278402865760482903259849957172237224075079517707184206241180609821535034490137190716469875984226351249806087010065973630396118060951180158755524024373713788205875981129349741043061724183992235377473374285352121608505277667736183082812835703753192362708760516023942906421303674287762364637321439466386095346682366051841046457640745230797209619063904909477352105447309968259032798861712786139968322706055188399142953086725468920773497221832370646379186842399067533574214786855353977047646727904394147404856587834349100401061307113238283347171434699543435334572561379555238758671036899855139395906809363290021721493948534192704311786478947076752812582174415513150945323830398749162601877836230574795476754286778113265578954407362508343368814765257831670707842708556657991246244513092210139944803855678559323732778706469849317700724278406216185863090508059367642870286004056093684036825933234197293052735179692868365061735390388497593550043198864859741569961864204903350039042213632329402183847336084356227765233673262101934829698721431592511356457991335964411749938947116417753738157024922623587775129272747199706492210950659597677468809853176350241079924647807274765654129812281996344864374739726735407459354228484339391678375561786249834267720713784730276293716085196624423711754511412593272616563812528968644708654483680094714930670910770296505525183499725219748487974362359139681674482628078849067287399351591783976329635270956035630701261756584473119711422595425535871677561632161678331465373615049952222537724178581682156129949227784875866140067525358390921292448162645764248901634662505139248112613715989164012671998090687414287145016550967769117931937995607355211802093335791387632484354144437378934593381235110949643756508638287743829072631453135791758754120877366714360370176497842386324251087943781588117790079409500503364308249169477054800057048595289165011192480154726164866328207666278170562923127214499055949977452158301570877478142644117194548310856648704895643585339017751543309048638950229332915141111183272809243466017510312846869640467272119484207957078371893820746214598044833700320868049971192524452124169158001198628073712082039506572265090512409633590348277133655644804657134911134909632947558511676066027240633731245128503652568502092364797604434275022780976692429614014687863244160239849917322866932643152595770062474754449729792220752069130851515302381769965910250118588309444236568465830727980538126658883512860989712338215018955369458120642590692059812292410343864143702152324265133977073368817488011093219245575229075613547351901063800695305430282425457138723134434186825813351250512812380611187745906411564601660570441302391200287739106189929457596503980773046543693401066226002697507913127474948966219269940829277602482551236957143208117571898294340411446108271257602841222086458429195277747579625401375092031192948861474314575348744756175546368136579060609618164975190429503503530479654916415210400751298745426341224613212356147675452682089241734018721888911526333540380798882218160692966713093683531011729868442954266681769930437822089419580269961069643625069297657355783879415663443274591794838517187047600321121711473340510703297920674834140275458106485081480914778949022659739456025994958527786583564049489964698627798864795467060087466542199261656065035766706307515422758273340995772916185925446487976986778656720056492948203356302215658011888270709983135920751328887698433914544996561103071891096111276099738530415678215968014619900354043873203177292117919537423325517958482257432983439616784332738571942132809314983740463451497799701069318411827418359430313562791427158331141222399726439005601293157919549221343416647048846932970498335600390743319933720989103535410421289431232151606209804591679395735765381458955675461317968157670420345221352847717201890162767631884479583372351910158949284454201020187196737808939334473339129567808950607809111332475204683133706469241345918350289107313164008659749687151269758379611655136112515438651260345966176741989767578426091918615918899168236506334292977629115443698357698503206203893955400878758170779377424879843313814291426367542303193272964950205410838241900832415825527935629879267066732188680285033025266556313583027416081189201576661405425994180220512585247602749488432011468980979247292987434407261659773344169951597380378401271156686840227815778339978737383073537913800272725561919025724450455373282349032901174300695899245995466537208423811109793193438490226679964745879260647946492460489225466864826813251360569421873868389155242801493872642656668816498936051289439422689244464238586395052182760732568148346388541157447556799468669620283149326101237178621725263079530490874188998693171708361953510488555427805415458057707143814638226495029388166890198367370794561324491682695904639709073661734172741019230291266730872271233702312259342363466655947853708953435315867171013076486817079710397088383305792995163955021480213669042096705250629805232417619828167396038101461120767506558627761088545697306356028746493573892110761867629893596074019182854894406257872380809806470989608648290437110382148550602796314170400017055007340404886005599866354655065413934881603883730678123135794597306974843141687337922399116848077239652285672079964181076302687301265634967190398162600199864654600893121762268875079878520110827176008299371529099685892127850678523714524100367124860489154127994305835026959639840333709473947822736633366901770369126571234433175582738028554549168621349522873628888883557547439071894946030678272244437525044416497419789543460539747666361053469197273185724866178776409266962437482684750818408186338378182896461553794104178602107204221927983435564747202812564923564804543119524200081754118793949788057983823525802231642408259533772580835542254876884474889416346014982374057884043920036056840421177906091149800734127176985062096050760179694045362950446438439654421008355930860495830504832877708049648667156284035900377604579513918238064814070168219563359577462682171966725076894878596703274876397563228917368850500887742615060204201467371592477321126875426468756621992804660463503436242907738956631018036325516267663343205780729677775971634938216595253551270361145824390039497903882904449964421961292522133976289450467298728143087868870621889841842587468295215860844324416618267968781235643518515376296255309364802410248306886347081692972852986358890682432598846579918032696883530991579228992345156700290597097156542216656574538927813865173259363700033095900347952492989012368924631341698479945668204379984022259699539405352107798296754210032841661685609249867584855057354694577938897449864706032491621894604266613960498940867083492281080119391147145744275751633971981808771460610986160126904696174793462658725138205171075830448047931521599747597749863581447250805543816771195090046882773437685926480643042696085463369382886947024258779400636346805792262796317958370481042341052089212428279633625650928342525834629954056695691757651613819609796407771503266555123486101954295000709982469208369855764820713791390186355037383567632570495137606462159311287722023705960660273295680712348369305101679703974230521823262043699941813062735207034526384290290422237190402415995680297665147310735068120313818128387949402646463378073777292548079567654699870691119455953817003593998663015674713359965412675753279957246327247726327210092446275710504687495833009789894229126538634735004168306685230828887296305966860266764454940582189465600000000000000000000000000000000000000000000000000000000000000000000000000000000000000000000000000000000000000000000000000000000000000000000000000000000000000000000000000000000000000000000000000000000000000000000000000000000000000000000000000000000000000000000000000000000000000000000000000000000000000000000000000000000000000000000000000000000000000000000000000000000000000000000000000000000000000000000000000000000000000000000000000000000000000000000000000000000000000000000000000000000000000000000000000000000000000000000000000000000000000000000000000000000000000000000000000000000000000000000000000000000000000000000000000000000000000000000000000000000000000000000000000000000000000000000000000000000000000000000000000000000000000000\n"
     ]
    }
   ],
   "source": [
    "# Factorial function: x! = x*(x-1)!, if x>=1\n",
    "#                                  , if x=0\n",
    "# e.g. 4! = 4*3*2*1 = 4(3*2*1) = 4*3*2*1*0! = 4*3!\n",
    "# What about 7.6! or -2! ? There is an extension to the factorial function, but we won't worry about it for now\n",
    "\n",
    "def facto(x):\n",
    "    if x==0:\n",
    "        return 1\n",
    "    else:\n",
    "        return x*facto(x-1)\n",
    "print(facto(2961))"
   ]
  },
  {
   "cell_type": "code",
   "execution_count": 1,
   "metadata": {},
   "outputs": [
    {
     "name": "stdout",
     "output_type": "stream",
     "text": [
      "21\n"
     ]
    }
   ],
   "source": [
    "#fibo: f(0)=0\n",
    "#f(1)=1\n",
    "#f(i)=f(i-1)=f(i-2),i>1\n",
    "#0 1 2 3 4 5 6 7  8\n",
    "#0 1 1 2 3 5 8 13 21 ...\n",
    "def fibo(i):\n",
    "    if i==0:\n",
    "        return 0\n",
    "    elif i == 1:\n",
    "        return 1\n",
    "    else:\n",
    "        return fibo(i-1)+fibo(i-2)\n",
    "print (fibo(8))"
   ]
  },
  {
   "cell_type": "code",
   "execution_count": 8,
   "metadata": {},
   "outputs": [
    {
     "name": "stdout",
     "output_type": "stream",
     "text": [
      "604450\n"
     ]
    }
   ],
   "source": [
    "outcome=0\n",
    "for i in range(1,1100):\n",
    "    outcome += i\n",
    "print (outcome)"
   ]
  },
  {
   "cell_type": "code",
   "execution_count": 10,
   "metadata": {},
   "outputs": [
    {
     "name": "stdout",
     "output_type": "stream",
     "text": [
      "Enter an integer: 4\n",
      "8\n"
     ]
    }
   ],
   "source": [
    "my_num = int(input(\"Enter an integer: \"))\n",
    "if(my_num % 2 == 0):\n",
    "    print(my_num*2)\n",
    "else:\n",
    "    print(my_num*-1)"
   ]
  },
  {
   "cell_type": "code",
   "execution_count": 11,
   "metadata": {},
   "outputs": [
    {
     "name": "stdout",
     "output_type": "stream",
     "text": [
      "0\n",
      "1\n",
      "2\n",
      "3\n",
      "4\n"
     ]
    }
   ],
   "source": [
    "for x in range(5):\n",
    "    print(x)"
   ]
  }
 ],
 "metadata": {
  "kernelspec": {
   "display_name": "Python 3",
   "language": "python",
   "name": "python3"
  },
  "language_info": {
   "codemirror_mode": {
    "name": "ipython",
    "version": 3
   },
   "file_extension": ".py",
   "mimetype": "text/x-python",
   "name": "python",
   "nbconvert_exporter": "python",
   "pygments_lexer": "ipython3",
   "version": "3.8.3"
  }
 },
 "nbformat": 4,
 "nbformat_minor": 4
}
