{
 "cells": [
  {
   "cell_type": "markdown",
   "metadata": {},
   "source": [
    "# Chapter 6 \"Fruitful Functions\""
   ]
  },
  {
   "cell_type": "markdown",
   "metadata": {},
   "source": [
    "## Return values\n",
    "### Calling a function generates a return value, which can be stored or used immediately.  \n",
    "By not specifying a return value, the function returns None (What is None in Python)?  \n",
    "Many functions we've used so far are \"void,\" not fruitful, i.e. they return None.  \n",
    "E.g.  "
   ]
  },
  {
   "cell_type": "code",
   "execution_count": 2,
   "metadata": {},
   "outputs": [],
   "source": [
    "#...\n",
    "def square(bob,length):\n",
    "    for i in range(4):\n",
    "        bob.forward(4)\n",
    "        bob.right(90)\n",
    "#...\n",
    "#this function \"does\" something, i.e it draws a square, but it doesn't RETURN anything\n",
    "#to be used later"
   ]
  },
  {
   "cell_type": "code",
   "execution_count": 10,
   "metadata": {},
   "outputs": [
    {
     "name": "stdout",
     "output_type": "stream",
     "text": [
      "28.274333882308138\n"
     ]
    }
   ],
   "source": [
    "#let's make a \"fruitful\" function, i.e. one that returns a value.\n",
    "import math\n",
    "def area(radius):\n",
    "    a = math.pi * radius**2\n",
    "    return a\n",
    "print(area(3))"
   ]
  },
  {
   "cell_type": "code",
   "execution_count": 12,
   "metadata": {},
   "outputs": [
    {
     "name": "stdout",
     "output_type": "stream",
     "text": [
      "3.141592653589793\n"
     ]
    }
   ],
   "source": [
    "my_area = area(1)\n",
    "print(my_area)"
   ]
  },
  {
   "cell_type": "code",
   "execution_count": 14,
   "metadata": {},
   "outputs": [
    {
     "data": {
      "text/plain": [
       "12.566370614359172"
      ]
     },
     "execution_count": 14,
     "metadata": {},
     "output_type": "execute_result"
    }
   ],
   "source": [
    "#Great!  We wrote it with a temporary variable, a, for clarity and debugging.  But we can actually\n",
    "#return that value without even using that variable.\n",
    "import math\n",
    "def area(radius):\n",
    "    return math.pi * radius**2\n",
    "area(2)"
   ]
  },
  {
   "cell_type": "code",
   "execution_count": 15,
   "metadata": {},
   "outputs": [],
   "source": [
    "# dead code - unreachable code, for example, code that happens after a return statement\n",
    "def extraneous_area(r):\n",
    "    a = math.pi * r **2\n",
    "    return a\n",
    "    return circumference = 2 * math.pi * r  #but this isn't ever calculated\n",
    "    \n"
   ]
  },
  {
   "cell_type": "code",
   "execution_count": 16,
   "metadata": {},
   "outputs": [
    {
     "name": "stdout",
     "output_type": "stream",
     "text": [
      "None\n"
     ]
    }
   ],
   "source": [
    "#multiple returns\n",
    "#sometimes, we want different values to be returned in different situations - \n",
    "#we can write multiple return statements, but only one will be used in a given call\n",
    "\n",
    "def abs_val(x):\n",
    "    if x < 0:\n",
    "        return -x\n",
    "    else:\n",
    "        return x\n",
    "\n",
    "#you could equivalently write:\n",
    "def abs_val(x):\n",
    "    if x < 0:\n",
    "        answer = -x\n",
    "    else:\n",
    "        answer = x\n",
    "    #in this case we assign the correct answer to the \"temporary variable\" answer.\n",
    "    return answer  #but that -slightly- less efficient to hold the \"answer\" variable\n",
    "    #but still could be useful to write it this way for clarity/debugging\n",
    "    #in fact, if we had forgotten a case, writing it this way may help us see that\n",
    "    #like this...\n",
    "    \n",
    "def abs_val_oops(x):\n",
    "    if x < 0:\n",
    "        return -x\n",
    "\n",
    "    if x > 0:\n",
    "        return x\n",
    "    #what's the oops?\n",
    "    \n",
    "print(abs_val_oops(0))"
   ]
  },
  {
   "cell_type": "code",
   "execution_count": 18,
   "metadata": {},
   "outputs": [
    {
     "data": {
      "text/plain": [
       "2"
      ]
     },
     "execution_count": 18,
     "metadata": {},
     "output_type": "execute_result"
    }
   ],
   "source": [
    "#Just FYI, Python has a built-in absolute value function\n",
    "abs(-2)"
   ]
  },
  {
   "cell_type": "markdown",
   "metadata": {},
   "source": [
    "## Exercise: write a function called \"compare\" that takes two values, x and y, and returns 1 if x > y, 0 if x==y, and -1 if x < y"
   ]
  },
  {
   "cell_type": "code",
   "execution_count": 17,
   "metadata": {},
   "outputs": [],
   "source": [
    "#write compare here"
   ]
  },
  {
   "cell_type": "markdown",
   "metadata": {},
   "source": [
    "## Incremental Development.  \n",
    "As you write larger functions, you might find yourself spending more time debugging.  \n",
    "To deal with increasingly complex programs, you might want to try a process called incremental development. The goal of incremental development is to avoid long debugging sessions by adding and testing only a small amount of code at a time.  \n",
    "As an example, suppose you want to find the distance between two points, given by the coordinates (x1, y1) and (x2, y2). By the Pythagorean theorem, the distance is:\n",
    "\n",
    "distance = \t√((x2 − x1)^2 + (y2 − y1)^2)\n",
    "The first step is to consider what a distance function should look like in Python. In other words, what are the inputs (parameters) and what is the output (return value)?\n",
    "In this case, the inputs are two points, which you can represent using four numbers. The return value is the distance represented by a floating-point value.\n",
    "\n",
    "Immediately you can write an outline of the function:\n",
    "\n",
    "def distance(x1, y1, x2, y2):  \n",
    "    return 0.0  \n",
    "    \n",
    "Obviously, this version doesn’t compute distances; it always returns zero. But it is syntactically correct, and it runs, which means that you can test it before you make it more complicated.\n",
    "To test the new function, call it with sample arguments:\n",
    "\n",
    "-distance(1, 2, 4, 6)  \n",
    "-0.0  \n",
    "I chose these values so that the horizontal distance is 3 and the vertical distance is 4; that way, the result is 5, the hypotenuse of a 3-4-5 triangle. When testing a function, it is useful to know the right answer.\n",
    "At this point we have confirmed that the function is syntactically correct, and we can start adding code to the body. A reasonable next step is to find the differences x2 − x1 and y2 − y1. The next version stores those values in temporary variables and prints them.\n"
   ]
  },
  {
   "cell_type": "code",
   "execution_count": 5,
   "metadata": {},
   "outputs": [],
   "source": [
    "def distance(x1, y1, x2, y2):  \n",
    "    dx = x2 - x1  \n",
    "    dy = y2 - y1  \n",
    "    print('dx is', dx)  \n",
    "    print('dy is', dy)  \n",
    "    return 0.0 "
   ]
  },
  {
   "cell_type": "markdown",
   "metadata": {},
   "source": [
    "If the function is working, it should display dx is 3 and dy is 4. If so, we know that the function is getting the right arguments and performing the first computation correctly. If not, there are only a few lines to check.  \n",
    "Next we compute the sum of squares of dx and dy:"
   ]
  },
  {
   "cell_type": "code",
   "execution_count": 22,
   "metadata": {},
   "outputs": [],
   "source": [
    "def distance(x1, y1, x2, y2):  \n",
    "    dx = x2 - x1  \n",
    "    dy = y2 - y1  \n",
    "    dsquared = dx**2 + dy**2  \n",
    "    print('dsquared is: ', dsquared)\n",
    "    return 0.0\n"
   ]
  },
  {
   "cell_type": "code",
   "execution_count": 13,
   "metadata": {},
   "outputs": [
    {
     "data": {
      "text/plain": [
       "5.0"
      ]
     },
     "execution_count": 13,
     "metadata": {},
     "output_type": "execute_result"
    }
   ],
   "source": [
    "#Again, you would run the program at this stage and check the output (which should be 25). Finally, you can use math.sqrt to compute and return the result:\n",
    "def distance(x1, y1, x2, y2):\n",
    "    dx = x2 - x1\n",
    "    dy = y2 - y1\n",
    "    dsquared = dx**2 + dy**2\n",
    "    #print(\"dsquared is\",dsquared)\n",
    "    result = math.sqrt(dsquared)  \n",
    "    return result  \n",
    "distance (1,2,4,6)"
   ]
  },
  {
   "cell_type": "code",
   "execution_count": 7,
   "metadata": {},
   "outputs": [
    {
     "data": {
      "text/plain": [
       "0.6"
      ]
     },
     "execution_count": 7,
     "metadata": {},
     "output_type": "execute_result"
    }
   ],
   "source": []
  },
  {
   "cell_type": "markdown",
   "metadata": {},
   "source": [
    "If that works correctly, you are done. Otherwise, you might want to print the value of result before the return statement.  \n",
    "The final version of the function doesn’t display anything when it runs; it only returns a value. The print statements we wrote are useful for debugging, but once you get the function working, you should remove them. Code like that is called scaffolding because it is helpful for building the program but is not part of the final product.  \n",
    "\n",
    "When you start out, you should add only a line or two of code at a time. As you gain more experience, you might find yourself writing and debugging bigger chunks. Either way, incremental development can save you a lot of debugging time.  \n",
    "  \n",
    "The key aspects of the process are:  \n",
    "  \n",
    "1) Start with a working program and make small incremental changes. At any point, if there is an error, you should have a good idea where it is.   \n",
    "2) Use variables to hold intermediate values so you can display and check them.  \n",
    "3) Once the program is working, you might want to remove some of the scaffolding or consolidate multiple statements into compound expressions, but only if it does not make the program difficult to read.  \n",
    "As an exercise, use incremental development to write a function called hypotenuse that returns the length of the hypotenuse of a right triangle given the lengths of the other two legs as arguments. Record each stage of the development process as you go.\n",
    "\n",
    "\n",
    "\n",
    "\n"
   ]
  },
  {
   "cell_type": "code",
   "execution_count": 21,
   "metadata": {},
   "outputs": [
    {
     "data": {
      "text/plain": [
       "10.0"
      ]
     },
     "execution_count": 21,
     "metadata": {},
     "output_type": "execute_result"
    }
   ],
   "source": [
    "def hypotenuse(length1, length2):\n",
    "    length3=((length1**2)+(length2**2))\n",
    "    return math.sqrt(length3)\n",
    "\n",
    "hypotenuse(6,8)"
   ]
  },
  {
   "cell_type": "code",
   "execution_count": 23,
   "metadata": {},
   "outputs": [
    {
     "data": {
      "text/plain": [
       "25.0"
      ]
     },
     "execution_count": 23,
     "metadata": {},
     "output_type": "execute_result"
    }
   ],
   "source": [
    "# Composition - we can call one function inside another.  E.g.,\n",
    "def circle_area(xc, yc, xp, yp): #c for center, p for perimeter\n",
    "    radius = distance(xc, yc, xp, yp) #calling a previously defined function inside the new one\n",
    "    result = area(radius) #calling a different previously defined function\n",
    "    return result\n",
    "\n",
    "circle_area(0,0,3,4)\n",
    "# circle_area(0,0,3,4)/math.pi #uncomment this to see that it gives the proper radius"
   ]
  },
  {
   "cell_type": "markdown",
   "metadata": {},
   "source": [
    "## Boolean Functions  \n",
    "One useful technique is to define functions that return True or False that can help quickly classify a property.    \n",
    "It is common to give boolean functions names that sound like yes/no questions; is_divisible returns either True or False to indicate whether x is divisible by y.\n"
   ]
  },
  {
   "cell_type": "code",
   "execution_count": 30,
   "metadata": {},
   "outputs": [],
   "source": [
    "def is_divisible(x, y):\n",
    "    if x % y == 0:\n",
    "        return True\n",
    "    else:\n",
    "        return False"
   ]
  },
  {
   "cell_type": "code",
   "execution_count": 31,
   "metadata": {},
   "outputs": [
    {
     "name": "stdout",
     "output_type": "stream",
     "text": [
      "True\n"
     ]
    }
   ],
   "source": [
    "print(is_divisible(9,3))"
   ]
  },
  {
   "cell_type": "markdown",
   "metadata": {},
   "source": [
    "## It may be surprising, but what we have learned so far is enough to define a \"Complete\" programming language.  \n",
    "Proving that claim is a nontrivial exercise first accomplished by Alan Turing, one of the first computer scientists (some would argue that he was a mathematician, but a lot of early computer scientists started as mathematicians). It would be reasonable to call him both.  \n",
    "Accordingly, it is known as the Turing Thesis. "
   ]
  },
  {
   "cell_type": "code",
   "execution_count": 35,
   "metadata": {},
   "outputs": [
    {
     "data": {
      "text/html": [
       "<img src=\"https://upload.wikimedia.org/wikipedia/commons/a/a1/Alan_Turing_Aged_16.jpg\"/>"
      ],
      "text/plain": [
       "<IPython.core.display.Image object>"
      ]
     },
     "execution_count": 35,
     "metadata": {},
     "output_type": "execute_result"
    }
   ],
   "source": [
    "from IPython.display import Image\n",
    "from IPython.core.display import HTML \n",
    "Image(url= \"https://upload.wikimedia.org/wikipedia/commons/a/a1/Alan_Turing_Aged_16.jpg\")\n",
    "\n",
    "# Alan Turing: "
   ]
  },
  {
   "cell_type": "markdown",
   "metadata": {},
   "source": [
    "##  Leap of faith\n",
    "\n",
    "Following the flow of execution is one way to read programs, but it can quickly become overwhelming. An alternative is what Downey calls the “leap of faith”. When you come to a function call, instead of following the flow of execution, you assume that the function works correctly and returns the right result.\n",
    "\n",
    "In fact, you are already practicing this leap of faith when you use built-in functions. When you call math.cos or math.exp, you don’t examine the bodies of those functions. You just assume that they work because the people who wrote the built-in functions were good programmers.\n",
    "\n",
    "The same is true when you call one of your own functions. For example, in Section 6.4, we wrote a function called is_divisible that determines whether one number is divisible by another. Once we have convinced ourselves that this function is correct—by examining the code and testing—we can use the function without looking at the body again."
   ]
  },
  {
   "cell_type": "markdown",
   "metadata": {},
   "source": [
    "##  Checking types  \n",
    "\n",
    "Let's revisit factorial.  \n",
    "What happens if we call factorial and give it 1.5 as an argument?  \n",
    "\n",
    " factorial(1.5)  \n",
    " RuntimeError: Maximum recursion depth exceeded  \n",
    "It looks like an infinite recursion. How can that be? The function has a base case—when n == 0. But if n is not an integer, we can miss the base case and recurse forever.\n",
    "In the first recursive call, the value of n is 0.5. In the next, it is -0.5. From there, it gets smaller (more negative), but it will never be 0.  \n",
    "  \n",
    "We have two choices. We can try to generalize the factorial function to work with floating-point numbers, or we can make factorial check the type of its argument. The first option is called the gamma function and it’s a little beyond the scope of this book. So we’ll go for the second.  \n",
    "\n",
    "We can use the built-in function isinstance to verify the type of the argument. While we’re at it, we can also make sure the argument is positive:  "
   ]
  },
  {
   "cell_type": "code",
   "execution_count": 37,
   "metadata": {},
   "outputs": [],
   "source": [
    "def factorial(n):\n",
    "    if not isinstance(n, int):\n",
    "        print('Factorial is only defined for integers.')\n",
    "        return None\n",
    "    elif n < 0:\n",
    "        print('Factorial is not defined for negative integers.')\n",
    "        return None\n",
    "    elif n == 0:\n",
    "        return 1\n",
    "    else:\n",
    "        return n * factorial(n-1)"
   ]
  },
  {
   "cell_type": "code",
   "execution_count": 38,
   "metadata": {},
   "outputs": [
    {
     "name": "stdout",
     "output_type": "stream",
     "text": [
      "Factorial is only defined for integers.\n"
     ]
    }
   ],
   "source": [
    "factorial(1.5)"
   ]
  },
  {
   "cell_type": "code",
   "execution_count": 40,
   "metadata": {},
   "outputs": [
    {
     "name": "stdout",
     "output_type": "stream",
     "text": [
      "9 90\n",
      "8100\n"
     ]
    }
   ],
   "source": [
    "#Exercise 1   \n",
    "#Draw a stack diagram for the following program. What does the program print?\n",
    "#(You don't need to turn in your stack diagram)\n",
    "def b(z):\n",
    "    prod = a(z, z)\n",
    "    print(z, prod)\n",
    "    return prod\n",
    "\n",
    "def a(x, y):\n",
    "    x = x + 1\n",
    "    return x * y\n",
    "\n",
    "def c(x, y, z):\n",
    "    total = x + y + z\n",
    "    square = b(total)**2\n",
    "    return square\n",
    "\n",
    "x = 1\n",
    "y = x + 1\n",
    "print(c(x, y+3, x+y))"
   ]
  },
  {
   "cell_type": "markdown",
   "metadata": {},
   "source": [
    "Exercise 2    \n",
    "The Ackermann function, A(m, n), is defined:\n",
    "A(m, n) = \t\n",
    "⎧   n+1\tif  m = 0   \n",
    "⎪  \n",
    "⎨   A(m−1, 1)\tif  m > 0  and  n = 0  \n",
    "⎪  \n",
    "⎩   A(m−1, A(m, n−1))\tif  m > 0  and  n > 0.\t\n",
    "  \n",
    "              \n",
    "\n",
    "See http://en.wikipedia.org/wiki/Ackermann_function. Write a function named ack that evaluates the Ackermann function. Use your function to evaluate ack(3, 4), which should be 125. What happens for larger values of m and n? Solution: http://thinkpython2.com/code/ackermann.py."
   ]
  },
  {
   "cell_type": "markdown",
   "metadata": {},
   "source": [
    "Exercise 3    \n",
    "A palindrome is a word that is spelled the same backward and forward, like “noon” and “redivider”. Recursively, a word is a palindrome if the first and last letters are the same and the middle is a palindrome.  \n",
    "The following are functions that take a string argument and return the first, last, and middle letters:  "
   ]
  },
  {
   "cell_type": "code",
   "execution_count": 44,
   "metadata": {},
   "outputs": [],
   "source": [
    "def first(word):\n",
    "    return word[0]\n",
    "\n",
    "def last(word):\n",
    "    return word[-1]\n",
    "\n",
    "def middle(word):\n",
    "    return word[1:-1]"
   ]
  },
  {
   "cell_type": "markdown",
   "metadata": {},
   "source": [
    "We’ll see how they work in Chapter 8.  \n",
    "Type these functions into a file named palindrome.py and test them out. What happens if you call middle with a string with two letters? One letter? What about the empty string, which is written '' and contains no letters?  \n",
    "Write a function called is_palindrome that takes a string argument and returns True if it is a palindrome and False otherwise. Remember that you can use the built-in function len to check the length of a string.  "
   ]
  },
  {
   "cell_type": "code",
   "execution_count": null,
   "metadata": {},
   "outputs": [],
   "source": []
  }
 ],
 "metadata": {
  "kernelspec": {
   "display_name": "Python 3",
   "language": "python",
   "name": "python3"
  },
  "language_info": {
   "codemirror_mode": {
    "name": "ipython",
    "version": 3
   },
   "file_extension": ".py",
   "mimetype": "text/x-python",
   "name": "python",
   "nbconvert_exporter": "python",
   "pygments_lexer": "ipython3",
   "version": "3.8.3"
  }
 },
 "nbformat": 4,
 "nbformat_minor": 4
}
